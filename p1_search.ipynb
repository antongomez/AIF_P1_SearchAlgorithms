{
 "cells": [
  {
   "cell_type": "markdown",
   "metadata": {},
   "source": [
    "## File with AIMA functions\n",
    "\n",
    "In file `search_mod.py` we have some functions implemented by AIMA. To run the code in this notebook, it is needed to run the following cell to import the functions from the file.\n"
   ]
  },
  {
   "cell_type": "code",
   "execution_count": 1,
   "metadata": {},
   "outputs": [],
   "source": [
    "# Python scripts with the implementation of AIMA of the classes\n",
    "# \"Problem\" and \"Node\" and the search algorithms.\n",
    "from search import Problem, Node"
   ]
  },
  {
   "cell_type": "markdown",
   "metadata": {},
   "source": [
    "## Reading the input\n"
   ]
  },
  {
   "cell_type": "code",
   "execution_count": 10,
   "metadata": {},
   "outputs": [
    {
     "data": {
      "text/plain": [
       "([[3, 2, 4, 1], [2, 3, 1, 2], [1, 4, 2, 3]], (0, 3, 0), (1, 2, 8))"
      ]
     },
     "execution_count": 10,
     "metadata": {},
     "output_type": "execute_result"
    }
   ],
   "source": [
    "def read_input_file(filename):\n",
    "    # Read the input file and return the list of lines.\n",
    "    with open(filename, \"r\") as file:\n",
    "        n_rows, n_cols = [int(x) for x in file.readline().split(\" \")]\n",
    "\n",
    "        # Read the map\n",
    "        map = []\n",
    "\n",
    "        for _ in range(n_rows):\n",
    "            map.append([int(x) for x in file.readline().split(\" \")])\n",
    "\n",
    "        # Read the initial and final positions\n",
    "        initial = tuple([int(x) for x in file.readline().split(\" \")])\n",
    "        goal = tuple([int(x) for x in file.readline().split(\" \")])\n",
    "\n",
    "        return map, initial, goal\n",
    "\n",
    "\n",
    "read_input_file(\"exampleMap.txt\")"
   ]
  },
  {
   "cell_type": "markdown",
   "metadata": {},
   "source": [
    "## Definition of the problem\n",
    "\n",
    "We extend the class `Problem` implemented by AIMA to define the problem for this task, called: `MinningProblem`. To achieve this, we define the following methods:\n",
    "\n",
    "- `__init__(self, initial, goal)`: This method initializes the problem with the initial state and the goal state.\n",
    "- `is_valid_state(self, state)`: This method checks if a given state is valid, taking into account the number of rows and columns of the problem.\n",
    "- `actions(self, state)`: This method returns the possible actions that can be taken from a given state. The actions will consists on the next states that can be reached from the current state.\n",
    "- `result(self, state, action)`: This method returns the state that results from taking an action from a given state (in this case, the action is the next state).\n",
    "- `h(self, node)`: This method returns the heuristic value of a given node.\n"
   ]
  },
  {
   "cell_type": "code",
   "execution_count": 37,
   "metadata": {},
   "outputs": [],
   "source": [
    "class MinningProblem(Problem):\n",
    "    \"\"\"We have a board with rows and columns and a robot that can move in 8 directions.\"\"\"\n",
    "\n",
    "    def __init__(self, rows, columns, initial, goal):\n",
    "        self.rows, self.columns = rows, columns\n",
    "        self.initial, self.goal = initial, goal\n",
    "\n",
    "    def is_valid_state(self, state):\n",
    "        \"\"\"\n",
    "        Check that the given state is a possible\n",
    "        state given a board with rows and columns\n",
    "        \"\"\"\n",
    "        return all(x > 0 for x in state) and state[0] < self.rows and state[1] < self.columns and state[2] < 8\n",
    "\n",
    "    def actions(self, state):\n",
    "        \"\"\"Return the possible movements of the robot given a state\"\"\"\n",
    "        # Get the orientation of the robot\n",
    "        orientation = state[2]\n",
    "        # We always can rotate the robot 45 degrees to the left and to the right\n",
    "        movements = [(state[0], state[1], (orientation + 1) % 8), (state[0], state[1], (orientation - 1) % 8)]\n",
    "\n",
    "        # The startegy to move forward the robot is to move\n",
    "        # it always and then check if new_state is valid\n",
    "        # Calculate the new position on axis y\n",
    "        new_state = list(state)\n",
    "        if orientation >= 7 or orientation <= 1:\n",
    "            new_state[0] = state[0] - 1\n",
    "        elif orientation >= 3 and orientation <= 5:\n",
    "            new_state[0] = state[0] + 1\n",
    "        # Calculate the new position on axis x\n",
    "        if orientation >= 1 and orientation <= 3:\n",
    "            new_state[1] = state[1] + 1\n",
    "        elif orientation >= 5 and orientation <= 7:\n",
    "            new_state[1] = state[1] - 1\n",
    "\n",
    "        if self.is_valid_state(new_state):\n",
    "            movements.append(tuple(new_state))\n",
    "\n",
    "        return movements\n",
    "\n",
    "    def result(self, state, action):\n",
    "        \"\"\"Move the robot to the next state. The action consists in the next state\"\"\"\n",
    "        return action\n",
    "\n",
    "    def is_goal(self, state):\n",
    "        \"\"\"Check if the current state is the goal state\"\"\"\n",
    "        return state[:1] == self.goal[:1]\n",
    "\n",
    "    def h1(self, node):\n",
    "        \"\"\"\n",
    "        Distance of Mahalanobis between the current state and the goal state.\n",
    "        To elaborate this heuristic, we supose that all the positions of the board\n",
    "        has cost 1 and the robot can rotate without cost. Also, we suppose that\n",
    "        the robot only has to move forward in one axis to reach the goal state.\n",
    "        \"\"\"\n",
    "        return max(abs(self.goal[0] - node.state[0]), abs(self.goal[1] - node.state[1]))\n",
    "\n",
    "    def h2(self, node):\n",
    "        \"\"\"For this heurisit we suppose that all the positions of the board\n",
    "        has cost 1.\n",
    "        \"\"\"\n",
    "        if self.is_goal(node.state):\n",
    "            return 0\n",
    "\n",
    "        orientation = node.state[2]\n",
    "\n",
    "        movements_y = self.goal[0] - node.state[0]\n",
    "        movements_x = self.goal[1] - node.state[1]\n",
    "\n",
    "        # Calculate the directions to move the robot to the goal state\n",
    "        # in both axis\n",
    "        orientation_y = 4 if movements_y > 0 else 0\n",
    "        orientation_x = 2 if movements_x > 0 else 6\n",
    "\n",
    "        # Calculate absolute values:\n",
    "        movements_y = abs(movements_y)\n",
    "        movements_x = abs(movements_x)\n",
    "\n",
    "        # We have two options: rotate the robot to move diagonally towards\n",
    "        # the goal state, or rotate the robot to move along the axis where\n",
    "        # the robot is furthest from the goal state.\n",
    "        if movements_y > movements_x:\n",
    "            furthest_orientation = orientation_y\n",
    "        else:\n",
    "            furthest_orientation = orientation_x\n",
    "\n",
    "        if orientation_y == 0 and orientation_x == 6:  # special case\n",
    "            diagonal_orientation = 7\n",
    "        else:\n",
    "            diagonal_orientation = (orientation_y + orientation_x) // 2\n",
    "\n",
    "        number_rotations_furthest = distance_between_orientations(orientation, furthest_orientation)\n",
    "        number_rotations_diagonal = distance_between_orientations(orientation, diagonal_orientation)\n",
    "\n",
    "        number_rotations = max(number_rotations_furthest, number_rotations_diagonal)\n",
    "        diagonal_movements = min(movements_y, movements_x)\n",
    "        straight_movements = abs(movements_y - movements_x)\n",
    "\n",
    "        total_cost = number_rotations + diagonal_movements + straight_movements\n",
    "\n",
    "        if number_rotations_furthest < number_rotations_diagonal:\n",
    "            actions = (\n",
    "                orientation,\n",
    "                furthest_orientation,\n",
    "                number_rotations_furthest,\n",
    "                abs(movements_y - movements_x),\n",
    "                diagonal_orientation,\n",
    "                distance_between_orientations(furthest_orientation, diagonal_orientation),\n",
    "                min(movements_y, movements_x),\n",
    "            )\n",
    "        else:\n",
    "            actions = (\n",
    "                orientation,\n",
    "                diagonal_orientation,\n",
    "                number_rotations_diagonal,\n",
    "                min(movements_y, movements_x),\n",
    "                furthest_orientation,\n",
    "                distance_between_orientations(diagonal_orientation, furthest_orientation),\n",
    "                abs(movements_y - movements_x),\n",
    "            )\n",
    "\n",
    "        print(\n",
    "            f\"Actions:\\n- First, rotate robot from orientation {actions[0]} to {actions[1]} (cost: {actions[2]}).\\n\"\n",
    "            + f\"- Then move {actions[3]} steps with orientation {actions[1]} (cost: {actions[3]}).\\n\"\n",
    "            + f\"- Rotate robot from orientation {actions[1]} to {actions[4]} (cost: {actions[5]}).\\n\"\n",
    "            + f\"- Move {actions[6]} steps with orientation {actions[4]} (cost: {actions[6]}).\\n\"\n",
    "            + f\"- Total cost: {total_cost}.\"\n",
    "        )\n",
    "\n",
    "        return total_cost\n",
    "\n",
    "    def h(self, node):\n",
    "        return self.h2(node)\n",
    "\n",
    "\n",
    "def distance_between_orientations(a, b):\n",
    "    # Calculate the distance between two orientations\n",
    "    return min((a - b) % 8, (b - a) % 8)"
   ]
  },
  {
   "cell_type": "code",
   "execution_count": 38,
   "metadata": {},
   "outputs": [
    {
     "data": {
      "text/plain": [
       "[(0, 3, 0), (0, 3, 6)]"
      ]
     },
     "execution_count": 38,
     "metadata": {},
     "output_type": "execute_result"
    }
   ],
   "source": [
    "mp = MinningProblem(3, 4, (0, 3, 0), (2, 0, 8))\n",
    "\n",
    "mp.actions((0, 3, 7))"
   ]
  },
  {
   "cell_type": "code",
   "execution_count": 35,
   "metadata": {},
   "outputs": [
    {
     "name": "stdout",
     "output_type": "stream",
     "text": [
      "3\n",
      "Actions:\n",
      "- First, rotate robot from orientation 0 to 6 (cost: 2).\n",
      "- Then move 1 steps with orientation 6 (cost: 1).\n",
      "- Rotate robot from orientation 6 to 5 (cost: 1).\n",
      "- Move 2 steps with orientation 5 (cost: 2).\n",
      "- Total cost: 6.\n",
      "6\n",
      "3\n",
      "Actions:\n",
      "- First, rotate robot from orientation 2 to 5 (cost: 3).\n",
      "- Then move 2 steps with orientation 5 (cost: 2).\n",
      "- Rotate robot from orientation 5 to 6 (cost: 1).\n",
      "- Move 1 steps with orientation 6 (cost: 1).\n",
      "- Total cost: 7.\n",
      "7\n"
     ]
    }
   ],
   "source": [
    "print(mp.h1(Node((0, 3, 0))))\n",
    "print(mp.h2(Node((0, 3, 0))))\n",
    "\n",
    "print(mp.h1(Node((0, 3, 2))))\n",
    "print(mp.h2(Node((0, 3, 2))))"
   ]
  },
  {
   "cell_type": "code",
   "execution_count": 39,
   "metadata": {},
   "outputs": [
    {
     "name": "stdout",
     "output_type": "stream",
     "text": [
      "0\n",
      "0\n"
     ]
    }
   ],
   "source": [
    "print(mp.h1(Node((2, 0, 2))))\n",
    "print(mp.h2(Node((2, 0, 2))))"
   ]
  },
  {
   "cell_type": "code",
   "execution_count": null,
   "metadata": {},
   "outputs": [],
   "source": []
  }
 ],
 "metadata": {
  "kernelspec": {
   "display_name": "p1_venv",
   "language": "python",
   "name": "python3"
  },
  "language_info": {
   "codemirror_mode": {
    "name": "ipython",
    "version": 3
   },
   "file_extension": ".py",
   "mimetype": "text/x-python",
   "name": "python",
   "nbconvert_exporter": "python",
   "pygments_lexer": "ipython3",
   "version": "3.10.8"
  }
 },
 "nbformat": 4,
 "nbformat_minor": 2
}
