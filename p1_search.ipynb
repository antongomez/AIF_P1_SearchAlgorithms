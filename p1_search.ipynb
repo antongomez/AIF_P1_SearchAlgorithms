{
 "cells": [
  {
   "cell_type": "code",
   "execution_count": 1,
   "metadata": {},
   "outputs": [],
   "source": [
    "# Python scripts with the implementation of AIMA of the classes\n",
    "# \"Problem\" and \"Node\" and the search algorithms.\n",
    "from search_mod import *"
   ]
  },
  {
   "cell_type": "markdown",
   "metadata": {},
   "source": [
    "## Definition of the problem\n",
    "\n",
    "We extend the class `Problem` implemented by AIMA to define the problem for this task, called: `MinningProblem`. To achieve this, we define the following methods:\n",
    "\n",
    "- `__init__(self, initial, goal)`: This method initializes the problem with the initial state and the goal state.\n",
    "- `is_valid_state(self, state)`: This method checks if a given state is valid, taking into account the number of rows and columns of the problem.\n",
    "- `actions(self, state)`: This method returns the possible actions that can be taken from a given state. The actions will consists on the next states that can be reached from the current state.\n",
    "- `result(self, state, action)`: This method returns the state that results from taking an action from a given state (in this case, the action is the next state).\n",
    "- `h(self, node)`: This method returns the heuristic value of a given node.\n"
   ]
  },
  {
   "cell_type": "code",
   "execution_count": 4,
   "metadata": {},
   "outputs": [],
   "source": [
    "class MinningProblem(Problem):\n",
    "    \"\"\"\"\"\"\n",
    "\n",
    "    def __init__(self, rows, columns, initial, goal):\n",
    "        self.rows, self.columns = rows, columns\n",
    "        self.initial, self.goal = initial, goal\n",
    "\n",
    "    def is_valid_state(self, state):\n",
    "        \"\"\"\n",
    "        Check that the given state is a possible\n",
    "        state given a board with rows and columns\n",
    "        \"\"\"\n",
    "        return all(x > 0 for x in state) and state[0] < self.rows and state[1] < self.columns and state[2] < 8\n",
    "\n",
    "    def actions(self, state):\n",
    "        \"\"\"Return the possible movements of the robot given a state\"\"\"\n",
    "        # Get the orientation of the robot\n",
    "        orientation = state[2]\n",
    "        # We always can rotate the robot 45 degrees to the left and to the right\n",
    "        movements = [(state[0], state[1], (orientation + 1) % 8), (state[0], state[1], (orientation - 1) % 8)]\n",
    "\n",
    "        # The startegy to move forward the robot is to move\n",
    "        # it always and then check if new_state is valid\n",
    "        # Calculate the new position on axis y\n",
    "        new_state = list(state)\n",
    "        if orientation >= 7 or orientation <= 1:\n",
    "            new_state[0] = state[0] - 1\n",
    "        elif orientation >= 3 and orientation <= 5:\n",
    "            new_state[0] = state[0] + 1\n",
    "        # Calculate the new position on axis x\n",
    "        if orientation >= 1 and orientation <= 3:\n",
    "            new_state[1] = state[1] + 1\n",
    "        elif orientation >= 5 and orientation <= 7:\n",
    "            new_state[1] = state[1] - 1\n",
    "\n",
    "        if self.is_valid_state(new_state):\n",
    "            movements.append(tuple(new_state))\n",
    "\n",
    "        return movements\n",
    "\n",
    "    def result(self, state, action):\n",
    "        \"\"\"Move the robot to the next state. The action consists in the next state\"\"\"\n",
    "        return action\n",
    "\n",
    "    def h1(self, node):\n",
    "        \"\"\"Count only the positions between the actual state and the goal state (Manhattan heuristic)\"\"\"\n",
    "        return abs(self.goal[0] - node.state[0]) + abs(self.goal[1] - node.state[1])\n",
    "\n",
    "    def h2(self, node):\n",
    "        \"\"\"Manhattan heuristic taking into account the actual orientation of the robot\"\"\"\n",
    "        orientation = node.state[2]\n",
    "        # Calculate the number of movements on axis y that the robot has to\n",
    "        # go up or down. If the value is positive, the robot has to go down\n",
    "        # and if it is negative, it has to go up\n",
    "        movements_y = self.goal[0] - node.state[0]\n",
    "        orientation_y = 4 if movements_y > 0 else 0 if movements_y < 0 else orientation\n",
    "\n",
    "        # Calculate the number of movements on axis y that the robot has to\n",
    "        # go right or left\n",
    "        movements_x = self.goal[1] - node.state[1]\n",
    "        orientation_x = 2 if movements_x > 0 else 6 if movements_x < 0 else orientation\n",
    "\n",
    "        # Calculate the number of rotations that are needed\n",
    "        # to move forward to the goal state in both axis\n",
    "        number_rotations_y = (orientation - orientation_y) % 8\n",
    "        number_rotations_x = (orientation - orientation_x) % 8\n",
    "\n",
    "        print(\n",
    "            f\"Orientation: {orientation}.\",\n",
    "            f\"Goal: {self.goal}.\",\n",
    "            f\"Orientation y: {orientation_y}.\",\n",
    "            f\"Orientation x: {orientation_x}.\",\n",
    "        )\n",
    "        print(f\"Rotations y: {number_rotations_y}.\")\n",
    "        print(f\"Rotations x: {number_rotations_x}.\")\n",
    "\n",
    "        # step 1: rotate the robot to orientate it in the direction of the nearest axis\n",
    "        number_rotations_step_1 = min(number_rotations_y, number_rotations_x)\n",
    "        # step 2: rotate the robot to orientate it in the other axis\n",
    "        number_rotations_step_2 = (number_rotations_y - number_rotations_x) % 8\n",
    "        number_rotations = number_rotations_step_1 + number_rotations_step_2\n",
    "\n",
    "        total_cost = abs(movements_x) + abs(movements_y) + number_rotations\n",
    "\n",
    "        if number_rotations_y < number_rotations_x:\n",
    "            actions = (\n",
    "                orientation,\n",
    "                orientation_y,\n",
    "                number_rotations_y,\n",
    "                abs(movements_y),\n",
    "                \"y\",\n",
    "                orientation_x,\n",
    "                number_rotations_step_2,\n",
    "                abs(movements_x),\n",
    "                \"x\",\n",
    "            )\n",
    "        else:\n",
    "            actions = (\n",
    "                orientation,\n",
    "                orientation_x,\n",
    "                number_rotations_x,\n",
    "                abs(movements_x),\n",
    "                \"x\",\n",
    "                orientation_y,\n",
    "                number_rotations_step_2,\n",
    "                abs(movements_y),\n",
    "                \"y\",\n",
    "            )\n",
    "\n",
    "        print(\n",
    "            f\"Actions:\\n- First, rotate robot from orientation {actions[0]} to {actions[1]} (cost: {actions[2]}).\\n\"\n",
    "            + f\"- Then move {actions[3]} steps on axis {actions[4]} (cost: {actions[3]}).\\n\"\n",
    "            + f\"- Rotate robot from orientation {actions[1]} to {actions[5]} (cost: {actions[6]}).\\n\"\n",
    "            + f\"- Move {actions[7]} steps on axis {actions[8]} (cost: {actions[7]}).\\n\"\n",
    "            + f\"- Total cost: {total_cost}.\"\n",
    "        )\n",
    "\n",
    "        return total_cost\n",
    "\n",
    "    def h(self, node):\n",
    "        return self.h2(node)"
   ]
  },
  {
   "cell_type": "code",
   "execution_count": 3,
   "metadata": {},
   "outputs": [
    {
     "data": {
      "text/plain": [
       "[(0, 3, 0), (0, 3, 6)]"
      ]
     },
     "execution_count": 3,
     "metadata": {},
     "output_type": "execute_result"
    }
   ],
   "source": [
    "mp = MinningProblem(3, 4, (0, 3, 0), (2, 0, 8))\n",
    "\n",
    "mp.actions((0, 3, 7))"
   ]
  },
  {
   "cell_type": "code",
   "execution_count": 62,
   "metadata": {},
   "outputs": [
    {
     "name": "stdout",
     "output_type": "stream",
     "text": [
      "5\n",
      "Actions:\n",
      "- First, rotate robot from orientation 0 to 6 (cost: 2).\n",
      "- Then move 3 steps on axis x (cost: 3).\n",
      "- Rotate robot from orientation 6 to 4 (cost: 2).\n",
      "- Move 2 steps on axis y (cost: 2).\n",
      "- Total cost: 9.\n",
      "9\n",
      "5\n",
      "Actions:\n",
      "- First, rotate robot from orientation 2 to 6 (cost: 4).\n",
      "- Then move 3 steps on axis x (cost: 3).\n",
      "- Rotate robot from orientation 6 to 4 (cost: 2).\n",
      "- Move 2 steps on axis y (cost: 2).\n",
      "- Total cost: 11.\n",
      "11\n"
     ]
    }
   ],
   "source": [
    "print(mp.h1(Node((0, 3, 0))))\n",
    "print(mp.h2(Node((0, 3, 0))))\n",
    "\n",
    "print(mp.h1(Node((0, 3, 2))))\n",
    "print(mp.h2(Node((0, 3, 2))))"
   ]
  }
 ],
 "metadata": {
  "kernelspec": {
   "display_name": "p1_venv",
   "language": "python",
   "name": "python3"
  },
  "language_info": {
   "codemirror_mode": {
    "name": "ipython",
    "version": 3
   },
   "file_extension": ".py",
   "mimetype": "text/x-python",
   "name": "python",
   "nbconvert_exporter": "python",
   "pygments_lexer": "ipython3",
   "version": "3.10.8"
  }
 },
 "nbformat": 4,
 "nbformat_minor": 2
}
