{
 "cells": [
  {
   "cell_type": "markdown",
   "metadata": {},
   "source": [
    "## File with AIMA functions\n",
    "\n",
    "In file `search_mod.py` we have some functions implemented by AIMA. To run the code in this notebook, it is needed to run the following cell to import the functions from the file.\n"
   ]
  },
  {
   "cell_type": "code",
   "execution_count": 9,
   "metadata": {},
   "outputs": [],
   "source": [
    "# Import implementation of the abstract class that represents a problem to be solved\n",
    "from search import Problem\n",
    "\n",
    "# Import search algorithms\n",
    "from search import depth_first_graph_search, breadth_first_graph_search, astar_search\n",
    "\n",
    "# Import functions that facilitate the representation of the path to the solution\n",
    "from aux_functions import (\n",
    "    read_input_file,\n",
    "    distance_between_orientations,\n",
    "    run_search_algorithm,\n",
    "    generate_random_maps,\n",
    "    get_states_h2,\n",
    "    plot_path_in_map,\n",
    ")"
   ]
  },
  {
   "cell_type": "markdown",
   "metadata": {},
   "source": [
    "## Reading the input\n"
   ]
  },
  {
   "cell_type": "code",
   "execution_count": 10,
   "metadata": {},
   "outputs": [
    {
     "name": "stdout",
     "output_type": "stream",
     "text": [
      "Number of rows: 3\n",
      "Number of columns: 4\n",
      "Map costs: [[3, 2, 4, 1], [2, 3, 1, 2], [1, 4, 2, 3]]\n",
      "Initial position: (0, 3, 0)\n",
      "Goal position: (1, 2, 8)\n"
     ]
    }
   ],
   "source": [
    "n_rows, n_cols, map_costs, initial, goal = read_input_file(\"exampleMap.txt\")\n",
    "print(f\"Number of rows: {n_rows}\")\n",
    "print(f\"Number of columns: {n_cols}\")\n",
    "print(f\"Map costs: {map_costs}\")\n",
    "print(f\"Initial position: {initial}\")\n",
    "print(f\"Goal position: {goal}\")"
   ]
  },
  {
   "cell_type": "markdown",
   "metadata": {},
   "source": [
    "## Definition of the problem\n",
    "\n",
    "We extend the class `Problem` implemented by AIMA to define the problem for this task, called: `MinningProblem`. To achieve this, we define the following methods:\n",
    "\n",
    "- `__init__(self, initial, goal)`: This method initializes the problem with the initial state and the goal state.\n",
    "- `is_valid_state(self, state)`: This method checks if a given state is valid, taking into account the number of rows and columns of the problem.\n",
    "- `actions(self, state)`: This method returns the possible actions that can be taken from a given state. The actions will consists on the next states that can be reached from the current state.\n",
    "- `result(self, state, action)`: This method returns the state that results from taking an action from a given state (in this case, the action is the next state).\n",
    "- `h(self, node)`: This method returns the heuristic value of a given node.\n"
   ]
  },
  {
   "cell_type": "code",
   "execution_count": 11,
   "metadata": {},
   "outputs": [],
   "source": [
    "class MinningProblem(Problem):\n",
    "    \"\"\"We have a board with rows and columns and a robot that can move in 8 directions.\"\"\"\n",
    "\n",
    "    def __init__(self, rows, columns, map, initial, goal):\n",
    "        self.map = map\n",
    "        self.rows, self.columns = rows, columns\n",
    "        self.initial, self.goal = initial, goal\n",
    "\n",
    "    def is_valid_state(self, state):\n",
    "        \"\"\"Check that the given state is a possible state given a board with rows and columns.\"\"\"\n",
    "        return all(x >= 0 for x in state) and state[0] < self.rows and state[1] < self.columns and state[2] < 8\n",
    "\n",
    "    def actions(self, state):\n",
    "        \"\"\"Return the possible movements of the robot given a state\"\"\"\n",
    "        # Get the orientation of the robot\n",
    "        orientation = state[2]\n",
    "        # We always can rotate the robot 45 degrees to the left and to the right\n",
    "        movements = [\"turn_left\", \"turn_right\"]\n",
    "        # The startegy to move forward the robot is to move\n",
    "        # it always and then check if new_state is valid\n",
    "        # Calculate the new position on axis y\n",
    "        new_state = list(state)\n",
    "        if orientation >= 7 or orientation <= 1:\n",
    "            new_state[0] = state[0] - 1\n",
    "        elif orientation >= 3 and orientation <= 5:\n",
    "            new_state[0] = state[0] + 1\n",
    "        # Calculate the new position on axis x\n",
    "        if orientation >= 1 and orientation <= 3:\n",
    "            new_state[1] = state[1] + 1\n",
    "        elif orientation >= 5 and orientation <= 7:\n",
    "            new_state[1] = state[1] - 1\n",
    "\n",
    "        if self.is_valid_state(new_state):\n",
    "            movements.append(\"move_forward\")\n",
    "\n",
    "        return movements\n",
    "\n",
    "    def result(self, state, action):\n",
    "        \"\"\"Move the robot to the next state\"\"\"\n",
    "        if action == \"turn_left\":\n",
    "            return (state[0], state[1], (state[2] - 1) % 8)\n",
    "        elif action == \"turn_right\":\n",
    "            return (state[0], state[1], (state[2] + 1) % 8)\n",
    "        elif action == \"move_forward\":\n",
    "            new_state = list(state)\n",
    "            if state[2] >= 7 or state[2] <= 1:\n",
    "                new_state[0] = state[0] - 1\n",
    "            elif state[2] >= 3 and state[2] <= 5:\n",
    "                new_state[0] = state[0] + 1\n",
    "            if state[2] >= 1 and state[2] <= 3:\n",
    "                new_state[1] = state[1] + 1\n",
    "            elif state[2] >= 5 and state[2] <= 7:\n",
    "                new_state[1] = state[1] - 1\n",
    "            return tuple(new_state)\n",
    "        return action\n",
    "\n",
    "    def goal_test(self, state):\n",
    "        \"\"\"Check if the current state is the goal state\"\"\"\n",
    "        return state[:2] == self.goal[:2]\n",
    "\n",
    "    def path_cost(self, c, state1, action, state2):\n",
    "        \"\"\"Return the cost of a solution path that arrives at state2 from\n",
    "        state1 via action, assuming cost c to get up to state1.\"\"\"\n",
    "        # We have to distinguish when the state2 is reached by\n",
    "        # a rotation of the robot or by a movement of the robot\n",
    "        if action == \"turn_left\" or action == \"turn_right\":\n",
    "            return c + 1\n",
    "        else:\n",
    "            return c + self.map[state2[0]][state2[1]]\n",
    "\n",
    "    def h1(self, node):\n",
    "        \"\"\"\n",
    "        Distance of Mahalanobis between the current state and the goal state.\n",
    "        To elaborate this heuristic, we supose that all the positions of the board\n",
    "        has cost 1 and the robot can rotate without cost. Also, we suppose that\n",
    "        the robot only has to move forward in one axis to reach the goal state.\n",
    "        \"\"\"\n",
    "        return max(abs(self.goal[0] - node.state[0]), abs(self.goal[1] - node.state[1]))\n",
    "\n",
    "    def h2(self, node):\n",
    "        \"\"\"For this heurisit we suppose that all the positions of the board\n",
    "        has cost 1.\n",
    "        \"\"\"\n",
    "        if self.goal_test(node.state):\n",
    "            return 0\n",
    "\n",
    "        orientation = node.state[2]\n",
    "\n",
    "        movements_y = self.goal[0] - node.state[0]\n",
    "        movements_x = self.goal[1] - node.state[1]\n",
    "\n",
    "        # Calculate the directions to move the robot to the goal state\n",
    "        # in both axis\n",
    "        orientation_y = 4 if movements_y > 0 else 0\n",
    "        orientation_x = 2 if movements_x > 0 else 6\n",
    "\n",
    "        # Calculate absolute values:\n",
    "        movements_y = abs(movements_y)\n",
    "        movements_x = abs(movements_x)\n",
    "        # Calculate the number of movements in diagonal and straight\n",
    "        diagonal_movements = min(movements_y, movements_x)\n",
    "        straight_movements = abs(movements_y - movements_x)\n",
    "\n",
    "        # We have two options: rotate the robot to move diagonally towards\n",
    "        # the goal state, or rotate the robot to move along the axis where\n",
    "        # the robot is furthest from the goal state.\n",
    "        if movements_y > movements_x:\n",
    "            straight_orientation = orientation_y\n",
    "        else:\n",
    "            straight_orientation = orientation_x\n",
    "\n",
    "        if orientation_y == 0 and orientation_x == 6:  # special case\n",
    "            diagonal_orientation = 7\n",
    "        else:\n",
    "            diagonal_orientation = (orientation_y + orientation_x) // 2\n",
    "\n",
    "        number_rotations_straight = (\n",
    "            distance_between_orientations(orientation, straight_orientation) if straight_movements > 0 else 0\n",
    "        )\n",
    "        number_rotations_diagonal = (\n",
    "            distance_between_orientations(orientation, diagonal_orientation) if diagonal_movements > 0 else 0\n",
    "        )\n",
    "\n",
    "        number_rotations = max(number_rotations_straight, number_rotations_diagonal)\n",
    "        total_cost = number_rotations + diagonal_movements + straight_movements\n",
    "\n",
    "        return total_cost\n",
    "\n",
    "    def h(self, node):\n",
    "        return self.h2(node)"
   ]
  },
  {
   "cell_type": "code",
   "execution_count": 12,
   "metadata": {},
   "outputs": [
    {
     "data": {
      "text/plain": [
       "[(0, 3, 7), (0, 3, 1)]"
      ]
     },
     "execution_count": 12,
     "metadata": {},
     "output_type": "execute_result"
    }
   ],
   "source": [
    "n_rows, n_cols, map_costs, initial, goal = read_input_file(\"exampleMap.txt\")\n",
    "mp = MinningProblem(n_rows, n_cols, map_costs, initial, goal)\n",
    "[mp.result(initial, action) for action in mp.actions(initial)]"
   ]
  },
  {
   "cell_type": "markdown",
   "metadata": {},
   "source": [
    "## Trying the search algorithms\n"
   ]
  },
  {
   "cell_type": "markdown",
   "metadata": {},
   "source": [
    "How to use the functions to run the algorithms and representate the followed path in the grid.\n"
   ]
  },
  {
   "cell_type": "code",
   "execution_count": 13,
   "metadata": {},
   "outputs": [
    {
     "name": "stdout",
     "output_type": "stream",
     "text": [
      "Cost of the solution: 4\n",
      "Number of actions: 5\n",
      "Actions: ['turn_left', 'turn_left', 'turn_left', 'move_forward']\n",
      "States: [(0, 3, 0), (0, 3, 7), (0, 3, 6), (0, 3, 5), (1, 2, 5)]\n"
     ]
    }
   ],
   "source": [
    "sol = breadth_first_graph_search(mp)\n",
    "print(f\"Cost of the solution: {sol.path_cost}\")\n",
    "print(f\"Number of actions: {len(sol.path())}\")\n",
    "print(f\"Actions: {sol.solution()}\")\n",
    "print(f\"States: {[node.state for node in sol.path()]}\")"
   ]
  },
  {
   "cell_type": "code",
   "execution_count": 14,
   "metadata": {},
   "outputs": [
    {
     "name": "stdout",
     "output_type": "stream",
     "text": [
      "#################################\n",
      "Running breadth_first_graph_search algorithm\n",
      "#################################\n",
      "\n",
      "Depth (d): 4\n",
      "Path cost (g): 4\n",
      "\n",
      "Path actions:\n",
      "State 0: (0, 3, 0) (initial state)\n",
      "Action 0: turn_left\n",
      "State 1: (0, 3, 7)\n",
      "Action 1: turn_left\n",
      "State 2: (0, 3, 6)\n",
      "Action 2: turn_left\n",
      "State 3: (0, 3, 5)\n",
      "Action 3: move_forward\n",
      "State 4: (1, 2, 5)\n",
      "\n",
      "Total number of items in explored list: 6\n",
      "Total number of items in frontier: 3\n"
     ]
    }
   ],
   "source": [
    "sol = run_search_algorithm(mp, breadth_first_graph_search, verbose=True)"
   ]
  },
  {
   "cell_type": "markdown",
   "metadata": {},
   "source": [
    "## Running experiments\n",
    "\n",
    "We have a function called `run_experiments` that runs the search algorithms for a given problem and returns the path followed by the algorithm. The return of this function is a `list` that contains one `dictionary` for each algorithm. Each `dictionary` contains the 10 solutions for the 10 different maps of each size (3, 5, 7, 9) of each algorithm. The keys of the `dictionary` are the names of the maps and the values are the solutions returned by the algorithms.\n",
    "\n",
    "It is also needed to include `#E`: \"total number of explored (expanded) nodes throughout the corresponding algorithm’s execution\" and `#F`: \"is the final number of nodes stored in the explored (expanded) list\n",
    "at the end of the execution\" in the table of results.\n"
   ]
  },
  {
   "cell_type": "code",
   "execution_count": 15,
   "metadata": {},
   "outputs": [],
   "source": [
    "import pandas as pd\n",
    "import numpy as np\n",
    "\n",
    "\n",
    "def run_experiments(map_sizes=[3, 5, 7, 9]):\n",
    "    \"\"\"Run the experiments for the different search algorithms and map sizes.\"\"\"\n",
    "    algorithms = {\n",
    "        \"Breadth-first\": breadth_first_graph_search,\n",
    "        \"Depth-first\": depth_first_graph_search,\n",
    "        \"A* (h1)\": lambda mp: astar_search(mp, mp.h1),\n",
    "        \"A* (h2)\": lambda mp: astar_search(mp, mp.h2),\n",
    "    }\n",
    "\n",
    "    initial_state = (0, 0, 0)\n",
    "    results = []\n",
    "\n",
    "    for size in map_sizes:\n",
    "        # Generate random maps and define the goal state\n",
    "        maps = generate_random_maps(size, 10)\n",
    "        goal = (size - 1, size - 1, 8)\n",
    "\n",
    "        # Initialize dictionary to store the results of each algorithm\n",
    "        results_size = {algo: np.zeros((10, 4)) for algo in algorithms}\n",
    "\n",
    "        for i, map_data in enumerate(maps):\n",
    "            mp = MinningProblem(size, size, map_data, initial_state, goal)\n",
    "\n",
    "            # Run the search algorithms\n",
    "            for algorithm_name, algorithm_fn in algorithms.items():\n",
    "                solution = algorithm_fn(mp)\n",
    "                results_size[algorithm_name][i] = (\n",
    "                    solution.depth,\n",
    "                    solution.path_cost.item(),\n",
    "                    solution.explored_items,\n",
    "                    solution.frontier_items,\n",
    "                )\n",
    "\n",
    "        results.append(results_size)\n",
    "\n",
    "    return results\n",
    "\n",
    "\n",
    "def print_tables(results, map_sizes=[3, 5, 7, 9], style=\"markdown\"):\n",
    "    \"\"\"Prints the tables of the results of the experiments in markdown format.\"\"\"\n",
    "    assert len(results) == len(map_sizes), \"The length of results and map_sizes should be the same.\"\n",
    "    bfs = \"Breadth-first\"\n",
    "    dfs = \"Depth-first\"\n",
    "    a_star_h1 = \"A* (h1)\"\n",
    "    a_star_h2 = \"A* (h2)\"\n",
    "\n",
    "    for map_size, res_size in zip(map_sizes, results):\n",
    "        print(f\"\\n#### Comparative table of performance of search methods in the map of dimension {map_size}\")\n",
    "        table = pd.DataFrame(\n",
    "            {\n",
    "                bfs: np.mean(res_size[bfs], axis=0),\n",
    "                dfs: np.mean(res_size[dfs], axis=0),\n",
    "                a_star_h1: np.mean(res_size[a_star_h1], axis=0),\n",
    "                a_star_h2: np.mean(res_size[a_star_h2], axis=0),\n",
    "            },\n",
    "            index=[\"d\", \"g\", \"#E\", \"#F\"],\n",
    "        )\n",
    "        # Transpose the table to make it easier to read\n",
    "        transposed_table = table.transpose()\n",
    "        if style == \"markdown\":\n",
    "            print(transposed_table.to_markdown())\n",
    "        elif style == \"html\":\n",
    "            print(transposed_table.to_html())\n",
    "        elif style == \"latex\":\n",
    "            print(transposed_table.to_latex())\n",
    "        else:\n",
    "            print(transposed_table)"
   ]
  },
  {
   "cell_type": "code",
   "execution_count": 16,
   "metadata": {},
   "outputs": [
    {
     "name": "stdout",
     "output_type": "stream",
     "text": [
      "\n",
      "#### Comparative table of performance of search methods in the map of dimension 3\n",
      "|               |   d |    g |   #E |   #F |\n",
      "|:--------------|----:|-----:|-----:|-----:|\n",
      "| Breadth-first | 5   | 12.7 | 10   |  6   |\n",
      "| Depth-first   | 8   | 25.5 |  8   |  8   |\n",
      "| A* (h1)       | 5.6 | 12.4 | 30.7 | 10   |\n",
      "| A* (h2)       | 5.6 | 12.4 | 19.5 | 11.3 |\n",
      "\n",
      "#### Comparative table of performance of search methods in the map of dimension 5\n",
      "|               |    d |    g |    #E |   #F |\n",
      "|:--------------|-----:|-----:|------:|-----:|\n",
      "| Breadth-first |  7   | 22.5 |  33   | 28   |\n",
      "| Depth-first   | 12   | 39   |  12   | 16   |\n",
      "| A* (h1)       | 10.1 | 19.5 | 122.9 | 23.7 |\n",
      "| A* (h2)       | 10.1 | 19.5 |  95.7 | 28.7 |\n",
      "\n",
      "#### Comparative table of performance of search methods in the map of dimension 7\n",
      "|               |    d |    g |    #E |   #F |\n",
      "|:--------------|-----:|-----:|------:|-----:|\n",
      "| Breadth-first |  9   | 28   | 106   | 59   |\n",
      "| Depth-first   | 16   | 64.7 |  16   | 24   |\n",
      "| A* (h1)       | 11.1 | 26.2 | 249.3 | 47.4 |\n",
      "| A* (h2)       | 11.1 | 26.2 | 192.9 | 60.8 |\n",
      "\n",
      "#### Comparative table of performance of search methods in the map of dimension 9\n",
      "|               |    d |    g |    #E |   #F |\n",
      "|:--------------|-----:|-----:|------:|-----:|\n",
      "| Breadth-first | 11   | 39.6 | 242   | 91   |\n",
      "| Depth-first   | 20   | 79.5 |  20   | 32   |\n",
      "| A* (h1)       | 16   | 31   | 381.4 | 71.9 |\n",
      "| A* (h2)       | 15.5 | 31   | 303.8 | 78.8 |\n"
     ]
    }
   ],
   "source": [
    "results = run_experiments(map_sizes=[3, 5, 7, 9])\n",
    "print_tables(results, map_sizes=[3, 5, 7, 9], style=\"markdown\")"
   ]
  },
  {
   "cell_type": "markdown",
   "metadata": {},
   "source": [
    "### Results\n",
    "\n",
    "#### Comparative table of performance of search methods in the map of dimension 3\n",
    "\n",
    "|               |   d |    g |   #E |   #F |\n",
    "| :------------ | --: | ---: | ---: | ---: |\n",
    "| Breadth-first |   5 | 12.7 |   10 |    6 |\n",
    "| Depth-first   |   8 | 25.5 |    8 |    8 |\n",
    "| A\\* (h1)      | 5.6 | 12.4 | 30.7 |   10 |\n",
    "| A\\* (h2)      | 5.6 | 12.4 | 19.5 | 11.3 |\n",
    "\n",
    "#### Comparative table of performance of search methods in the map of dimension 5\n",
    "\n",
    "|               |    d |    g |    #E |   #F |\n",
    "| :------------ | ---: | ---: | ----: | ---: |\n",
    "| Breadth-first |    7 | 22.5 |    33 |   28 |\n",
    "| Depth-first   |   12 |   39 |    12 |   16 |\n",
    "| A\\* (h1)      | 10.1 | 19.5 | 122.9 | 23.7 |\n",
    "| A\\* (h2)      | 10.1 | 19.5 |  95.7 | 28.7 |\n",
    "\n",
    "#### Comparative table of performance of search methods in the map of dimension 7\n",
    "\n",
    "|               |    d |    g |    #E |   #F |\n",
    "| :------------ | ---: | ---: | ----: | ---: |\n",
    "| Breadth-first |    9 |   28 |   106 |   59 |\n",
    "| Depth-first   |   16 | 64.7 |    16 |   24 |\n",
    "| A\\* (h1)      | 11.1 | 26.2 | 249.3 | 47.4 |\n",
    "| A\\* (h2)      | 11.1 | 26.2 | 192.9 | 60.8 |\n",
    "\n",
    "#### Comparative table of performance of search methods in the map of dimension 9\n",
    "\n",
    "|               |    d |    g |    #E |   #F |\n",
    "| :------------ | ---: | ---: | ----: | ---: |\n",
    "| Breadth-first |   11 | 39.6 |   242 |   91 |\n",
    "| Depth-first   |   20 | 79.5 |    20 |   32 |\n",
    "| A\\* (h1)      |   16 |   31 | 381.4 | 71.9 |\n",
    "| A\\* (h2)      | 15.5 |   31 | 303.8 | 78.8 |\n"
   ]
  },
  {
   "cell_type": "markdown",
   "metadata": {},
   "source": [
    "---\n",
    "# Functions to plot information for the report\n",
    "---\n"
   ]
  },
  {
   "cell_type": "markdown",
   "metadata": {},
   "source": [
    "## Function to find the actions and path obtained with h2\n",
    "\n",
    "This is only necessary to plot a matrix and the path to write the report\n"
   ]
  },
  {
   "cell_type": "code",
   "execution_count": 17,
   "metadata": {},
   "outputs": [
    {
     "data": {
      "text/plain": [
       "[(1, 1, 3), (2, 2, 3), (2, 2, 2), (2, 3, 2)]"
      ]
     },
     "execution_count": 17,
     "metadata": {},
     "output_type": "execute_result"
    }
   ],
   "source": [
    "h2_cost, states = get_states_h2((1, 1, 3), (2, 3, 8))\n",
    "states"
   ]
  },
  {
   "cell_type": "markdown",
   "metadata": {},
   "source": [
    "## Plot the robot and directions\n",
    "\n",
    "Maybe this is useful to write the explanation of the heuristics in the report. Also it can be used to represent the path followed by the robot with the different search algorithms.\n"
   ]
  },
  {
   "cell_type": "markdown",
   "metadata": {},
   "source": [
    "### Plot the path followed by the heuristic h2\n"
   ]
  },
  {
   "cell_type": "code",
   "execution_count": 18,
   "metadata": {},
   "outputs": [
    {
     "name": "stdout",
     "output_type": "stream",
     "text": [
      "Cost of heuristic 2: 6\n",
      "States: [(0, 0, 0), (0, 0, 2), (0, 1, 2), (0, 1, 3), (1, 2, 3), (2, 3, 3)]\n"
     ]
    },
    {
     "data": {
      "image/png": "[encoded data removed]",
      "text/plain": [
       "<Figure size 640x480 with 1 Axes>"
      ]
     },
     "metadata": {},
     "output_type": "display_data"
    }
   ],
   "source": [
    "import numpy as np\n",
    "\n",
    "_, _, map, _, _ = read_input_file(\"exampleMap.txt\")\n",
    "h2_cost, states = get_states_h2((0, 0, 0), (2, 3, 8))\n",
    "print(f\"Cost of heuristic 2: {h2_cost}\")\n",
    "print(f\"States: {states}\")\n",
    "plot_path_in_map(\n",
    "    np.array(map),\n",
    "    initial_state=states[0],\n",
    "    states=states,\n",
    ")"
   ]
  },
  {
   "cell_type": "markdown",
   "metadata": {},
   "source": [
    "### Plot the path followed by the robot with the different search algorithms\n"
   ]
  },
  {
   "cell_type": "code",
   "execution_count": 19,
   "metadata": {},
   "outputs": [
    {
     "data": {
      "text/plain": [
       "['turn_left', 'turn_right', 'move_forward']"
      ]
     },
     "execution_count": 19,
     "metadata": {},
     "output_type": "execute_result"
    }
   ],
   "source": [
    "n_rows, n_cols, map, initial, goal = read_input_file(\"exampleMap.txt\")\n",
    "mp = MinningProblem(n_rows, n_cols, map, initial, (0, 2, 8))\n",
    "\n",
    "mp.actions((0, 3, 5))"
   ]
  },
  {
   "cell_type": "code",
   "execution_count": 20,
   "metadata": {},
   "outputs": [
    {
     "data": {
      "image/png": "[encoded data removed]",
      "text/plain": [
       "<Figure size 640x480 with 1 Axes>"
      ]
     },
     "metadata": {},
     "output_type": "display_data"
    }
   ],
   "source": [
    "n_rows, n_cols, map, initial, goal = read_input_file(\"exampleMap.txt\")\n",
    "mp = MinningProblem(n_rows, n_cols, map, initial, (0, 2, 8))\n",
    "sol = run_search_algorithm(mp, breadth_first_graph_search, verbose=False)\n",
    "# Get the states of the solution\n",
    "states = [node.state for node in sol.path()]  # we need to unpack the state\n",
    "plot_path_in_map(\n",
    "    np.array(map),\n",
    "    initial_state=states[0],\n",
    "    states=states,\n",
    ")"
   ]
  }
 ],
 "metadata": {
  "kernelspec": {
   "display_name": "p1_venv",
   "language": "python",
   "name": "python3"
  },
  "language_info": {
   "codemirror_mode": {
    "name": "ipython",
    "version": 3
   },
   "file_extension": ".py",
   "mimetype": "text/x-python",
   "name": "python",
   "nbconvert_exporter": "python",
   "pygments_lexer": "ipython3",
   "version": "3.10.8"
  }
 },
 "nbformat": 4,
 "nbformat_minor": 2
}
