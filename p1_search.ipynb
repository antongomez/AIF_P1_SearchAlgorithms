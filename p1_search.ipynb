{
 "cells": [
  {
   "cell_type": "markdown",
   "metadata": {},
   "source": [
    "## File with AIMA functions\n",
    "\n",
    "In file `search_mod.py` we have some functions implemented by AIMA. To run the code in this notebook, it is needed to run the following cell to import the functions from the file.\n"
   ]
  },
  {
   "cell_type": "code",
   "execution_count": 1,
   "metadata": {},
   "outputs": [],
   "source": [
    "# Import implementation of the abstract class that represents a problem to be solved\n",
    "from search import Problem, Node\n",
    "\n",
    "# Import search algorithms\n",
    "from search import depth_first_graph_search, breadth_first_graph_search, astar_search\n",
    "\n",
    "# Import functions that facilitate the representation of the path to the solution\n",
    "from aux_functions import path_actions, path_states, run_search_algorithm"
   ]
  },
  {
   "cell_type": "markdown",
   "metadata": {},
   "source": [
    "## Reading the input\n"
   ]
  },
  {
   "cell_type": "code",
   "execution_count": 2,
   "metadata": {},
   "outputs": [
    {
     "name": "stdout",
     "output_type": "stream",
     "text": [
      "Number of rows: 3\n",
      "Number of columns: 4\n",
      "Map costs: [[3, 2, 4, 1], [2, 3, 1, 2], [1, 4, 2, 3]]\n",
      "Initial position: (0, 3, 0)\n",
      "Goal position: (1, 2, 8)\n"
     ]
    }
   ],
   "source": [
    "def read_input_file(filename):\n",
    "    # Read the input file and return the list of lines.\n",
    "    with open(filename, \"r\") as file:\n",
    "        n_rows, n_cols = [int(x) for x in file.readline().split(\" \")]\n",
    "\n",
    "        # Read the map\n",
    "        map_costs = []\n",
    "\n",
    "        for _ in range(n_rows):\n",
    "            map_costs.append([int(x) for x in file.readline().split(\" \")])\n",
    "\n",
    "        # Read the initial and final positions\n",
    "        initial = tuple([int(x) for x in file.readline().split(\" \")])\n",
    "        goal = tuple([int(x) for x in file.readline().split(\" \")])\n",
    "\n",
    "        return n_rows, n_cols, map_costs, initial, goal\n",
    "\n",
    "\n",
    "n_rows, n_cols, map_costs, initial, goal = read_input_file(\"exampleMap.txt\")\n",
    "print(f\"Number of rows: {n_rows}\")\n",
    "print(f\"Number of columns: {n_cols}\")\n",
    "print(f\"Map costs: {map_costs}\")\n",
    "print(f\"Initial position: {initial}\")\n",
    "print(f\"Goal position: {goal}\")"
   ]
  },
  {
   "cell_type": "markdown",
   "metadata": {},
   "source": [
    "## Definition of the problem\n",
    "\n",
    "We extend the class `Problem` implemented by AIMA to define the problem for this task, called: `MinningProblem`. To achieve this, we define the following methods:\n",
    "\n",
    "- `__init__(self, initial, goal)`: This method initializes the problem with the initial state and the goal state.\n",
    "- `is_valid_state(self, state)`: This method checks if a given state is valid, taking into account the number of rows and columns of the problem.\n",
    "- `actions(self, state)`: This method returns the possible actions that can be taken from a given state. The actions will consists on the next states that can be reached from the current state.\n",
    "- `result(self, state, action)`: This method returns the state that results from taking an action from a given state (in this case, the action is the next state).\n",
    "- `h(self, node)`: This method returns the heuristic value of a given node.\n"
   ]
  },
  {
   "cell_type": "code",
   "execution_count": 3,
   "metadata": {},
   "outputs": [],
   "source": [
    "class MinningProblem(Problem):\n",
    "    \"\"\"We have a board with rows and columns and a robot that can move in 8 directions.\"\"\"\n",
    "\n",
    "    def __init__(self, rows, columns, map, initial, goal):\n",
    "        self.map = map\n",
    "        self.rows, self.columns = rows, columns\n",
    "        self.initial, self.goal = initial, goal\n",
    "\n",
    "    def is_valid_state(self, state):\n",
    "        \"\"\"Check that the given state is a possible state given a board with rows and columns.\"\"\"\n",
    "        return all(x > 0 for x in state) and state[0] < self.rows and state[1] < self.columns and state[2] < 8\n",
    "\n",
    "    def actions(self, state):\n",
    "        \"\"\"Return the possible movements of the robot given a state\"\"\"\n",
    "        # Get the orientation of the robot\n",
    "        orientation = state[2]\n",
    "        # We always can rotate the robot 45 degrees to the left and to the right\n",
    "        movements = [\"turn_left\", \"turn_right\"]\n",
    "        # The startegy to move forward the robot is to move\n",
    "        # it always and then check if new_state is valid\n",
    "        # Calculate the new position on axis y\n",
    "        new_state = list(state)\n",
    "        if orientation >= 7 or orientation <= 1:\n",
    "            new_state[0] = state[0] - 1\n",
    "        elif orientation >= 3 and orientation <= 5:\n",
    "            new_state[0] = state[0] + 1\n",
    "        # Calculate the new position on axis x\n",
    "        if orientation >= 1 and orientation <= 3:\n",
    "            new_state[1] = state[1] + 1\n",
    "        elif orientation >= 5 and orientation <= 7:\n",
    "            new_state[1] = state[1] - 1\n",
    "\n",
    "        if self.is_valid_state(new_state):\n",
    "            movements.append(\"move_forward\")\n",
    "\n",
    "        return movements\n",
    "\n",
    "    def result(self, state, action):\n",
    "        \"\"\"Move the robot to the next state\"\"\"\n",
    "        if action == \"turn_left\":\n",
    "            return (state[0], state[1], (state[2] - 1) % 8)\n",
    "        elif action == \"turn_right\":\n",
    "            return (state[0], state[1], (state[2] + 1) % 8)\n",
    "        elif action == \"move_forward\":\n",
    "            new_state = list(state)\n",
    "            if state[2] >= 7 or state[2] <= 1:\n",
    "                new_state[0] = state[0] - 1\n",
    "            elif state[2] >= 3 and state[2] <= 5:\n",
    "                new_state[0] = state[0] + 1\n",
    "            if state[2] >= 1 and state[2] <= 3:\n",
    "                new_state[1] = state[1] + 1\n",
    "            elif state[2] >= 5 and state[2] <= 7:\n",
    "                new_state[1] = state[1] - 1\n",
    "            return tuple(new_state)\n",
    "        return action\n",
    "\n",
    "    def goal_test(self, state):\n",
    "        \"\"\"Check if the current state is the goal state\"\"\"\n",
    "        return state[:2] == self.goal[:2]\n",
    "\n",
    "    def path_cost(self, c, state1, action, state2):\n",
    "        \"\"\"Return the cost of a solution path that arrives at state2 from\n",
    "        state1 via action, assuming cost c to get up to state1.\"\"\"\n",
    "        # We have to distinguish when the state2 is reached by\n",
    "        # a rotation of the robot or by a movement of the robot\n",
    "        if action == \"turn_left\" or action == \"turn_right\":\n",
    "            return c + 1\n",
    "        else:\n",
    "            return c + self.map[state2[0]][state2[1]]\n",
    "\n",
    "    def h1(self, node):\n",
    "        \"\"\"\n",
    "        Distance of Mahalanobis between the current state and the goal state.\n",
    "        To elaborate this heuristic, we supose that all the positions of the board\n",
    "        has cost 1 and the robot can rotate without cost. Also, we suppose that\n",
    "        the robot only has to move forward in one axis to reach the goal state.\n",
    "        \"\"\"\n",
    "        return max(abs(self.goal[0] - node.state[0]), abs(self.goal[1] - node.state[1]))\n",
    "\n",
    "    def h2(self, node):\n",
    "        \"\"\"For this heurisit we suppose that all the positions of the board\n",
    "        has cost 1.\n",
    "        \"\"\"\n",
    "        if self.goal_test(node.state):\n",
    "            return 0\n",
    "\n",
    "        orientation = node.state[2]\n",
    "\n",
    "        movements_y = self.goal[0] - node.state[0]\n",
    "        movements_x = self.goal[1] - node.state[1]\n",
    "\n",
    "        # Calculate the directions to move the robot to the goal state\n",
    "        # in both axis\n",
    "        orientation_y = 4 if movements_y > 0 else 0\n",
    "        orientation_x = 2 if movements_x > 0 else 6\n",
    "\n",
    "        # Calculate absolute values:\n",
    "        movements_y = abs(movements_y)\n",
    "        movements_x = abs(movements_x)\n",
    "        # Calculate the number of movements in diagonal and straight\n",
    "        diagonal_movements = min(movements_y, movements_x)\n",
    "        straight_movements = abs(movements_y - movements_x)\n",
    "\n",
    "        # We have two options: rotate the robot to move diagonally towards\n",
    "        # the goal state, or rotate the robot to move along the axis where\n",
    "        # the robot is furthest from the goal state.\n",
    "        if movements_y > movements_x:\n",
    "            straight_orientation = orientation_y\n",
    "        else:\n",
    "            straight_orientation = orientation_x\n",
    "\n",
    "        if orientation_y == 0 and orientation_x == 6:  # special case\n",
    "            diagonal_orientation = 7\n",
    "        else:\n",
    "            diagonal_orientation = (orientation_y + orientation_x) // 2\n",
    "\n",
    "        number_rotations_straight = (\n",
    "            distance_between_orientations(orientation, straight_orientation) if straight_movements > 0 else 0\n",
    "        )\n",
    "        number_rotations_diagonal = (\n",
    "            distance_between_orientations(orientation, diagonal_orientation) if diagonal_movements > 0 else 0\n",
    "        )\n",
    "\n",
    "        number_rotations = max(number_rotations_straight, number_rotations_diagonal)\n",
    "        total_cost = number_rotations + diagonal_movements + straight_movements\n",
    "\n",
    "        return total_cost\n",
    "\n",
    "    def h(self, node):\n",
    "        return self.h2(node)\n",
    "\n",
    "\n",
    "def distance_between_orientations(a, b):\n",
    "    # Calculate the distance between two orientations\n",
    "    return min((a - b) % 8, (b - a) % 8)"
   ]
  },
  {
   "cell_type": "code",
   "execution_count": 4,
   "metadata": {},
   "outputs": [
    {
     "data": {
      "text/plain": [
       "[(0, 3, 7), (0, 3, 1)]"
      ]
     },
     "execution_count": 4,
     "metadata": {},
     "output_type": "execute_result"
    }
   ],
   "source": [
    "n_rows, n_cols, map_costs, initial, goal = read_input_file(\"exampleMap.txt\")\n",
    "mp = MinningProblem(n_rows, n_cols, map_costs, initial, goal)\n",
    "[mp.result(initial, action) for action in mp.actions(initial)]"
   ]
  },
  {
   "cell_type": "markdown",
   "metadata": {},
   "source": [
    "## Trying the search algorithms\n"
   ]
  },
  {
   "cell_type": "markdown",
   "metadata": {},
   "source": [
    "How to use the functions to run the algorithms and representate the followed path in the grid.\n"
   ]
  },
  {
   "cell_type": "code",
   "execution_count": 5,
   "metadata": {},
   "outputs": [
    {
     "name": "stdout",
     "output_type": "stream",
     "text": [
      "Cost of the solution: 4\n",
      "Number of actions: 4\n",
      "Actions: ['turn_left', 'turn_left', 'turn_left', 'move_forward']\n",
      "States: [(0, 3, 0), (0, 3, 7), (0, 3, 6), (0, 3, 5), (1, 2, 5)]\n"
     ]
    }
   ],
   "source": [
    "sol = breadth_first_graph_search(mp)\n",
    "print(f\"Cost of the solution: {sol.path_cost}\")\n",
    "print(f\"Number of actions: {len(path_actions(sol))}\")\n",
    "print(f\"Actions: {path_actions(sol)}\")\n",
    "print(f\"States: {path_states(sol)}\")"
   ]
  },
  {
   "cell_type": "code",
   "execution_count": 9,
   "metadata": {},
   "outputs": [
    {
     "name": "stdout",
     "output_type": "stream",
     "text": [
      "#################################\n",
      "Running breadth_first_graph_search algorithm\n",
      "#################################\n",
      "\n",
      "Path cost: 4\n",
      "\n",
      "Path actions:\n",
      "State 0: (0, 3, 0) (initial state)\n",
      "Action 0: turn_left\n",
      "State 1: (0, 3, 7)\n",
      "Action 1: turn_left\n",
      "State 2: (0, 3, 6)\n",
      "Action 2: turn_left\n",
      "State 3: (0, 3, 5)\n",
      "Action 3: move_forward\n",
      "State 4: (1, 2, 5)\n"
     ]
    },
    {
     "data": {
      "text/plain": [
       "<Node (1, 2, 5)>"
      ]
     },
     "execution_count": 9,
     "metadata": {},
     "output_type": "execute_result"
    }
   ],
   "source": [
    "run_search_algorithm(mp, breadth_first_graph_search, verbose=True)"
   ]
  },
  {
   "cell_type": "markdown",
   "metadata": {},
   "source": [
    "---\n",
    "# Functions to plot information for the report\n",
    "---\n"
   ]
  },
  {
   "cell_type": "markdown",
   "metadata": {},
   "source": [
    "## Function to find the actions and path obtained with h2\n",
    "\n",
    "This is only necessary to plot a matrix and the path to write the report\n"
   ]
  },
  {
   "cell_type": "code",
   "execution_count": 98,
   "metadata": {},
   "outputs": [],
   "source": [
    "def _h2(state, goal):\n",
    "    \"\"\"For this heurisit we suppose that all the positions of the board has cost 1.\"\"\"\n",
    "\n",
    "    def is_goal(state):\n",
    "        return state[:2] == goal[:2]\n",
    "\n",
    "    if is_goal(state):\n",
    "        return 0\n",
    "\n",
    "    orientation = state[2]\n",
    "\n",
    "    movements_y = goal[0] - state[0]\n",
    "    movements_x = goal[1] - state[1]\n",
    "\n",
    "    # Calculate the directions to move the robot to the goal state\n",
    "    # in both axis\n",
    "    orientation_y = 4 if movements_y > 0 else 0\n",
    "    orientation_x = 2 if movements_x > 0 else 6\n",
    "\n",
    "    # Calculate absolute values:\n",
    "    movements_y = abs(movements_y)\n",
    "    movements_x = abs(movements_x)\n",
    "    # Calculate the number of movements in diagonal and straight\n",
    "    diagonal_movements = min(movements_y, movements_x)\n",
    "    straight_movements = abs(movements_y - movements_x)\n",
    "\n",
    "    # We have two options: rotate the robot to move diagonally towards\n",
    "    # the goal state, or rotate the robot to move along the axis where\n",
    "    # the robot is furthest from the goal state.\n",
    "    if movements_y > movements_x:\n",
    "        straight_orientation = orientation_y\n",
    "    else:\n",
    "        straight_orientation = orientation_x\n",
    "\n",
    "    if orientation_y == 0 and orientation_x == 6:  # special case\n",
    "        diagonal_orientation = 7\n",
    "    else:\n",
    "        diagonal_orientation = (orientation_y + orientation_x) // 2\n",
    "\n",
    "    number_rotations_straight = (\n",
    "        distance_between_orientations(orientation, straight_orientation) if straight_movements > 0 else 0\n",
    "    )\n",
    "    number_rotations_diagonal = (\n",
    "        distance_between_orientations(orientation, diagonal_orientation) if diagonal_movements > 0 else 0\n",
    "    )\n",
    "\n",
    "    number_rotations = max(number_rotations_straight, number_rotations_diagonal)\n",
    "    total_cost = number_rotations + diagonal_movements + straight_movements\n",
    "\n",
    "    states = [state]\n",
    "\n",
    "    def move_with_orientation(state, orientation):\n",
    "        new_state = list(state)\n",
    "        if orientation == 0:\n",
    "            new_state[0] = state[0] - 1\n",
    "        elif orientation == 1:\n",
    "            new_state[0] = state[0] - 1\n",
    "            new_state[1] = state[1] + 1\n",
    "        elif orientation == 2:\n",
    "            new_state[1] = state[1] + 1\n",
    "        elif orientation == 3:\n",
    "            new_state[0] = state[0] + 1\n",
    "            new_state[1] = state[1] + 1\n",
    "        elif orientation == 4:\n",
    "            new_state[0] = state[0] + 1\n",
    "        elif orientation == 5:\n",
    "            new_state[0] = state[0] + 1\n",
    "            new_state[1] = state[1] - 1\n",
    "        elif orientation == 6:\n",
    "            new_state[1] = state[1] - 1\n",
    "        elif orientation == 7:\n",
    "            new_state[0] = state[0] - 1\n",
    "            new_state[1] = state[1] - 1\n",
    "        return (new_state[0], new_state[1], orientation)\n",
    "\n",
    "    def append_states(state, orientation, movements, states):\n",
    "        \"\"\"Function to append the states to the list of states\"\"\"\n",
    "        for _ in range(movements):\n",
    "            state = move_with_orientation(state, orientation)\n",
    "            states.append(state)\n",
    "        return state\n",
    "\n",
    "    if diagonal_movements == 0:\n",
    "        if number_rotations_straight > 0:\n",
    "            states.append((state[0], state[1], straight_orientation))\n",
    "        state = append_states(state, straight_orientation, straight_movements, states)\n",
    "    elif straight_movements == 0:\n",
    "        if number_rotations_diagonal > 0:\n",
    "            states.append((state[0], state[1], diagonal_orientation))\n",
    "        state = append_states(state, diagonal_orientation, diagonal_movements, states)\n",
    "    else:\n",
    "        if number_rotations_straight < number_rotations_diagonal:\n",
    "            if number_rotations_straight > 0:\n",
    "                states.append((state[0], state[1], straight_orientation))  # rotation\n",
    "            state = append_states(state, straight_orientation, straight_movements, states)\n",
    "            states.append((state[0], state[1], diagonal_orientation))  # rotation\n",
    "            state = append_states(state, diagonal_orientation, diagonal_movements, states)\n",
    "        else:\n",
    "            if number_rotations_diagonal > 0:\n",
    "                states.append((state[0], state[1], diagonal_orientation))  # rotation\n",
    "            state = append_states(state, diagonal_orientation, diagonal_movements, states)\n",
    "            states.append((state[0], state[1], straight_orientation))\n",
    "            state = append_states(state, straight_orientation, straight_movements, states)\n",
    "\n",
    "    return total_cost, states"
   ]
  },
  {
   "cell_type": "code",
   "execution_count": 99,
   "metadata": {},
   "outputs": [
    {
     "data": {
      "text/plain": [
       "[(1, 1, 3), (2, 2, 3), (2, 2, 2), (2, 3, 2)]"
      ]
     },
     "execution_count": 99,
     "metadata": {},
     "output_type": "execute_result"
    }
   ],
   "source": [
    "n_rows, n_cols, map, initial, goal = read_input_file(\"exampleMap.txt\")\n",
    "sol = run_search_algorithm(mp, breadth_first_graph_search, verbose=False)\n",
    "h2_cost, states = _h2((1, 1, 3), (2, 3, 8))\n",
    "states"
   ]
  },
  {
   "cell_type": "markdown",
   "metadata": {},
   "source": [
    "## Plot the robot and directions\n",
    "\n",
    "Maybe this is useful to write the explanation of the heuristics in the report. Also it can be used to represent the path followed by the robot with the different search algorithms.\n"
   ]
  },
  {
   "cell_type": "code",
   "execution_count": 102,
   "metadata": {},
   "outputs": [
    {
     "name": "stdout",
     "output_type": "stream",
     "text": [
      "[(0, 0, 0), (0, 0, 2), (0, 1, 2), (0, 1, 3), (1, 2, 3), (2, 3, 3)]\n"
     ]
    },
    {
     "data": {
      "image/png": "[encoded data removed]",
      "text/plain": [
       "<Figure size 640x480 with 1 Axes>"
      ]
     },
     "metadata": {},
     "output_type": "display_data"
    }
   ],
   "source": [
    "import matplotlib.pyplot as plt\n",
    "from matplotlib.colors import Normalize\n",
    "from matplotlib.patches import Circle, FancyArrow\n",
    "import numpy as np\n",
    "\n",
    "\n",
    "def plot_map(map, normalize=True, initial=None, actions=None, states=None):\n",
    "    fig, ax = plt.subplots()\n",
    "\n",
    "    # Define the normalization for the colors\n",
    "    if normalize:\n",
    "        norm = Normalize(vmin=np.min(map) - 1, vmax=np.max(map) + 2.5)\n",
    "    else:\n",
    "        norm = Normalize(vmin=np.min(map), vmax=np.max(map))\n",
    "\n",
    "    # Plot the map\n",
    "    cax = ax.matshow(map, cmap=\"gray\", norm=norm)\n",
    "\n",
    "    # Add the values of the map\n",
    "    for i in range(map.shape[0]):\n",
    "        for j in range(map.shape[1]):\n",
    "            ax.text(j, i, str(map[i, j]), va=\"center\", ha=\"center\", color=\"white\")\n",
    "\n",
    "    ax.set_xticks(np.arange(map.shape[1]))\n",
    "    ax.set_yticks(np.arange(map.shape[0]))\n",
    "    ax.set_xticklabels(np.arange(map.shape[1]))\n",
    "    ax.set_yticklabels(np.arange(map.shape[0]))\n",
    "\n",
    "    def calculate_start_end_arrow(state):\n",
    "        \"\"\"Auxiliary function to calculate the end of the arrow given a state.\"\"\"\n",
    "        orientation = state[2]\n",
    "        if orientation == 0:\n",
    "            angle = np.pi / 2\n",
    "        elif orientation == 1:\n",
    "            angle = np.pi / 4\n",
    "        elif orientation == 2:\n",
    "            angle = 0\n",
    "        elif orientation == 3:\n",
    "            angle = -np.pi / 4\n",
    "        elif orientation == 4:\n",
    "            angle = -np.pi / 2\n",
    "        elif orientation == 5:\n",
    "            angle = -3 * np.pi / 4\n",
    "        elif orientation == 6:\n",
    "            angle = np.pi\n",
    "        elif orientation == 7:\n",
    "            angle = 3 * np.pi / 4\n",
    "\n",
    "        radius = 0.15\n",
    "        start_x = state[1] + radius * np.cos(angle)\n",
    "        start_y = state[0] - radius * np.sin(angle)\n",
    "\n",
    "        radius = 0.25\n",
    "        end_x = radius * np.cos(angle)\n",
    "        end_y = -radius * np.sin(angle)\n",
    "\n",
    "        return start_x, start_y, end_x, end_y\n",
    "\n",
    "    def plot_circle(state, color):\n",
    "        circle = Circle((state[1], state[0]), 0.15, color=color, fill=False, linewidth=2)\n",
    "        ax.add_patch(circle)\n",
    "\n",
    "    def plot_arrow(state, color):\n",
    "        start_x, start_y, end_x, end_y = calculate_start_end_arrow(state)\n",
    "        arrow = FancyArrow(\n",
    "            start_x,\n",
    "            start_y,\n",
    "            end_x,\n",
    "            end_y,\n",
    "            width=0.01,\n",
    "            color=color,\n",
    "        )\n",
    "        ax.add_patch(arrow)\n",
    "\n",
    "    # Circle the initial position\n",
    "    if initial:\n",
    "        plot_circle(initial, \"red\")\n",
    "\n",
    "    # Add the actions\n",
    "    if states:\n",
    "        # Plot the initial orientation with a red arrow\n",
    "        prev_state = states[0]\n",
    "        plot_arrow(prev_state, \"red\")\n",
    "        # Plot the rest of the actions\n",
    "        for state in states[1:]:\n",
    "            action = \"rotation\" if state[2] != prev_state[2] else \"move_forward\"\n",
    "            color = \"yellow\" if action == \"move_forward\" else \"green\"\n",
    "            plot_arrow(state, color)\n",
    "            if action == \"move_forward\":\n",
    "                circle = Circle((state[1], state[0]), 0.15, color=color, fill=False, linewidth=2)\n",
    "                ax.add_patch(circle)\n",
    "            prev_state = state\n",
    "\n",
    "    ax.grid(False)\n",
    "    plt.show()\n",
    "\n",
    "\n",
    "n_rows, n_cols, map, initial, goal = read_input_file(\"exampleMap.txt\")\n",
    "sol = run_search_algorithm(mp, breadth_first_graph_search, verbose=False)\n",
    "h2_cost, states = _h2((0, 0, 0), (2, 3, 8))\n",
    "print(states)\n",
    "plot_map(\n",
    "    np.array(map),\n",
    "    initial=states[0],\n",
    "    states=states,\n",
    ")"
   ]
  }
 ],
 "metadata": {
  "kernelspec": {
   "display_name": "p1_venv",
   "language": "python",
   "name": "python3"
  },
  "language_info": {
   "codemirror_mode": {
    "name": "ipython",
    "version": 3
   },
   "file_extension": ".py",
   "mimetype": "text/x-python",
   "name": "python",
   "nbconvert_exporter": "python",
   "pygments_lexer": "ipython3",
   "version": "3.10.12"
  }
 },
 "nbformat": 4,
 "nbformat_minor": 2
}
