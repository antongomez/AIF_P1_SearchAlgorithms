{
 "cells": [
  {
   "cell_type": "markdown",
   "metadata": {},
   "source": [
    "## Files with AIMA functions\n",
    "\n",
    "Files `search.py` and `utils.py` are downloaded from AIMA Python code repository. They are used to implement the search algorithms in this notebook. The class `Node` has 2 additional attributes:\n",
    "\n",
    "- `expanded_nodes`: number of nodes expanded during the search.\n",
    "- `frontier_nodes`: number of nodes in the frontier at the end of the search.\n",
    "\n",
    "Also, the algorithms `breadth_first_graph_search`, `depth_first_graph_search` and `best_first_graph_search` have been modified to modify the `expanded_nodes` and `frontier_nodes` attributes of the solution nodes.\n"
   ]
  },
  {
   "cell_type": "code",
   "execution_count": 1,
   "metadata": {},
   "outputs": [],
   "source": [
    "# Import search algorithms\n",
    "from search import depth_first_graph_search, breadth_first_graph_search, astar_search\n",
    "\n",
    "# Import functions that facilitate the representation of the path to the solution\n",
    "from functions import (\n",
    "    MinningProblem,\n",
    "    read_input_file,\n",
    "    run_search_algorithm,\n",
    "    run_experiments,\n",
    "    print_tables,\n",
    "    get_states_h2,\n",
    "    plot_path_in_map,\n",
    ")"
   ]
  },
  {
   "cell_type": "markdown",
   "metadata": {},
   "source": [
    "## Reading the input\n",
    "\n",
    "The function `read_input_file` reads the input file and returns the number of rows, columns, the initial state and the goal state.\n"
   ]
  },
  {
   "cell_type": "code",
   "execution_count": 2,
   "metadata": {},
   "outputs": [
    {
     "name": "stdout",
     "output_type": "stream",
     "text": [
      "Number of rows: 3\n",
      "Number of columns: 4\n",
      "Map costs: [[3, 2, 4, 1], [2, 3, 1, 2], [1, 4, 2, 3]]\n",
      "Initial position: (0, 3, 0)\n",
      "Goal position: (1, 2, 8)\n"
     ]
    }
   ],
   "source": [
    "n_rows, n_cols, map_costs, initial, goal = read_input_file(\"../data/exampleMap.txt\")\n",
    "print(f\"Number of rows: {n_rows}\")\n",
    "print(f\"Number of columns: {n_cols}\")\n",
    "print(f\"Map costs: {map_costs}\")\n",
    "print(f\"Initial position: {initial}\")\n",
    "print(f\"Goal position: {goal}\")"
   ]
  },
  {
   "cell_type": "markdown",
   "metadata": {},
   "source": [
    "## Definition of the problem\n",
    "\n",
    "We extend the class `Problem` implemented by AIMA to define the problem for this task, called: `MinningProblem`. To achieve this, we define the following methods:\n",
    "\n",
    "- `__init__(self, initial, goal)`: This method initializes the problem with the initial state and the goal state.\n",
    "- `goal_test(self, state)`: This method checks if a given state is valid, taking into account the number of rows and columns of the problem.\n",
    "- `actions(self, state)`: This method returns the possible actions that can be taken from a given state. The possible actions are `rotate_left`, `rotate_right`, `move_forward`.\n",
    "- `result(self, state, action)`: This method returns the state that results from taking an action from a given state.\n",
    "- `path_cost(self, c, state1, action, state2)`: This method returns the cost of the path from the `state1` to `state2` taking the action `action`. The cost is calculated as the sum of the cost of the action and the cost of the state.\n",
    "- `h(self, node)`: This method returns the heuristic value of a given node.\n"
   ]
  },
  {
   "cell_type": "code",
   "execution_count": 3,
   "metadata": {},
   "outputs": [
    {
     "data": {
      "text/plain": [
       "[(0, 3, 7), (0, 3, 1)]"
      ]
     },
     "execution_count": 3,
     "metadata": {},
     "output_type": "execute_result"
    }
   ],
   "source": [
    "n_rows, n_cols, map_costs, initial, goal = read_input_file(\"../data/exampleMap.txt\")\n",
    "mp = MinningProblem(n_rows, n_cols, map_costs, initial, goal)\n",
    "[mp.result(initial, action) for action in mp.actions(initial)]"
   ]
  },
  {
   "cell_type": "markdown",
   "metadata": {},
   "source": [
    "## Trying the search algorithms\n"
   ]
  },
  {
   "cell_type": "markdown",
   "metadata": {},
   "source": [
    "The value returned by the algorithms functions is the solution node. It is possible to get the path from the initial state to the goal state by using the method `solution()`. The method `solution()` returns a list with the path from the initial state to the goal state. With the function `path()` it is possible to get the actions performed to reach the goal state.\n"
   ]
  },
  {
   "cell_type": "code",
   "execution_count": 4,
   "metadata": {},
   "outputs": [
    {
     "name": "stdout",
     "output_type": "stream",
     "text": [
      "Cost of the solution: 4\n",
      "Number of actions: 5\n",
      "Actions: ['rotate_left', 'rotate_left', 'rotate_left', 'move_forward']\n",
      "States: [(0, 3, 0), (0, 3, 7), (0, 3, 6), (0, 3, 5), (1, 2, 5)]\n"
     ]
    }
   ],
   "source": [
    "sol = breadth_first_graph_search(mp)\n",
    "print(f\"Cost of the solution: {sol.path_cost}\")\n",
    "print(f\"Number of actions: {len(sol.path())}\")\n",
    "print(f\"Actions: {sol.solution()}\")\n",
    "print(f\"States: {[node.state for node in sol.path()]}\")"
   ]
  },
  {
   "cell_type": "markdown",
   "metadata": {},
   "source": [
    "The function `run_search_algorithm()` receives the search algorithm and the problem as parameters and returns the solution node, the path and the actions performed to reach the goal state. It has the options:\n",
    "\n",
    "- `algorithm`: The search algorithm to be used. It can be one of the following: `depth_first_graph_search`, `breadth_first_graph_search`, `best_first_graph_search`, `astar_search`, or any other algorithm implemented by AIMA.\n",
    "- `problem`: The problem to be solved.\n",
    "- `verbose`: If `True`, it prints the path and the actions performed to reach the goal state.\n",
    "- `output_file`: If different from `None`, it writes the path and the actions performed to reach the goal state in a file with the name given by the parameter.\n"
   ]
  },
  {
   "cell_type": "code",
   "execution_count": 5,
   "metadata": {},
   "outputs": [
    {
     "name": "stdout",
     "output_type": "stream",
     "text": [
      "\n",
      "#############################################\n",
      "Running breadth_first_graph_search algorithm\n",
      "#############################################\n",
      "\n",
      "State 0: (0, 3, 0) (starting node)\n",
      "Action 1: rotate_left\n",
      "State 1: (0, 3, 7)\n",
      "Action 2: rotate_left\n",
      "State 2: (0, 3, 6)\n",
      "Action 3: rotate_left\n",
      "State 3: (0, 3, 5)\n",
      "Action 4: move_forward\n",
      "State 4: (1, 2, 5) (final node)\n",
      "\n",
      "Total number of items in explored list: 6\n",
      "Total number of items in frontier: 3\n",
      "\n"
     ]
    }
   ],
   "source": [
    "sol_bfs = run_search_algorithm(mp, breadth_first_graph_search, verbose=True)\n",
    "sol_dfs = run_search_algorithm(mp, depth_first_graph_search, verbose=False)\n",
    "sol_astar = run_search_algorithm(mp, astar_search, verbose=False)"
   ]
  },
  {
   "cell_type": "markdown",
   "metadata": {},
   "source": [
    "## Running experiments\n",
    "\n",
    "We have a function called `run_experiments` that runs the search algorithms for a given problem and returns solution nodes for each problem for algorithms: `breadth_first_graph_search`, `best_first_graph_search`, `astar_search` (with the 2 heuristics). This data is returned in a data strucuture that consists on a `list` that contains one`dictionary` for each algorithm. Each`dictionary`contains the 10 solutions for the 10 different maps of each size (3, 5, 7, 9) of each algorithm. The keys of the`dictionary` are the names of the maps and the values are the solutions returned by the algorithms.\n",
    "\n",
    "The function `print_tables` receives the data returned by the function `run_experiments` and prints the tables with the results of the experiments. The tables show the **depth of the solution (d)**, the **path cost (g)**, the **number of nodes expanded (#E)** and the **number of nodes in the frontier at the end of the search (#F)** for each algorithm and each map size.\n"
   ]
  },
  {
   "cell_type": "code",
   "execution_count": 6,
   "metadata": {},
   "outputs": [
    {
     "name": "stdout",
     "output_type": "stream",
     "text": [
      "\n",
      "#### Comparative table of performance of search methods in the map of dimension 3\n",
      "|               |   d |    g |   #E |   #F |\n",
      "|:--------------|----:|-----:|-----:|-----:|\n",
      "| Breadth-first | 5   | 11.9 | 10   |  6   |\n",
      "| Depth-first   | 8   | 19.8 |  8   |  8   |\n",
      "| A* (h1)       | 5.4 | 11.1 | 28.5 |  8.9 |\n",
      "| A* (h2)       | 5.4 | 11.1 | 19.5 | 10.1 |\n",
      "\n",
      "#### Comparative table of performance of search methods in the map of dimension 5\n",
      "|               |    d |    g |    #E |   #F |\n",
      "|:--------------|-----:|-----:|------:|-----:|\n",
      "| Breadth-first |  7   | 23.4 |  33   | 28   |\n",
      "| Depth-first   | 12   | 38.5 |  12   | 16   |\n",
      "| A* (h1)       | 11.2 | 19.9 | 122.6 | 24.3 |\n",
      "| A* (h2)       | 11.2 | 19.9 |  93.6 | 31.8 |\n",
      "\n",
      "#### Comparative table of performance of search methods in the map of dimension 7\n",
      "|               |    d |    g |    #E |   #F |\n",
      "|:--------------|-----:|-----:|------:|-----:|\n",
      "| Breadth-first |  9   | 35.7 | 106   | 59   |\n",
      "| Depth-first   | 16   | 61.1 |  16   | 24   |\n",
      "| A* (h1)       | 13.7 | 25.7 | 229.9 | 49.2 |\n",
      "| A* (h2)       | 13.5 | 25.7 | 179.2 | 56.1 |\n",
      "\n",
      "#### Comparative table of performance of search methods in the map of dimension 9\n",
      "|               |    d |    g |    #E |   #F |\n",
      "|:--------------|-----:|-----:|------:|-----:|\n",
      "| Breadth-first | 11   | 34.4 | 242   | 91   |\n",
      "| Depth-first   | 20   | 68.7 |  20   | 32   |\n",
      "| A* (h1)       | 15.8 | 27.5 | 349.1 | 73.9 |\n",
      "| A* (h2)       | 15.8 | 27.5 | 269   | 84.6 |\n"
     ]
    }
   ],
   "source": [
    "results = run_experiments(map_sizes=[3, 5, 7, 9], seed=42)\n",
    "print_tables(results, map_sizes=[3, 5, 7, 9], style=\"markdown\")"
   ]
  },
  {
   "cell_type": "markdown",
   "metadata": {},
   "source": [
    "### Results\n",
    "\n",
    "#### Comparative table of performance of search methods in the map of dimension 3\n",
    "\n",
    "|               |   d |    g |   #E |   #F |\n",
    "| :------------ | --: | ---: | ---: | ---: |\n",
    "| Breadth-first |   5 | 11.9 |   10 |    6 |\n",
    "| Depth-first   |   8 | 19.8 |    8 |    8 |\n",
    "| A\\* (h1)      | 5.4 | 11.1 | 28.5 |  8.9 |\n",
    "| A\\* (h2)      | 5.4 | 11.1 | 19.5 | 10.1 |\n",
    "\n",
    "#### Comparative table of performance of search methods in the map of dimension 5\n",
    "\n",
    "|               |    d |    g |    #E |   #F |\n",
    "| :------------ | ---: | ---: | ----: | ---: |\n",
    "| Breadth-first |    7 | 23.4 |    33 |   28 |\n",
    "| Depth-first   |   12 | 38.5 |    12 |   16 |\n",
    "| A\\* (h1)      | 11.2 | 19.9 | 122.6 | 24.3 |\n",
    "| A\\* (h2)      | 11.2 | 19.9 |  93.6 | 31.8 |\n",
    "\n",
    "#### Comparative table of performance of search methods in the map of dimension 7\n",
    "\n",
    "|               |    d |    g |    #E |   #F |\n",
    "| :------------ | ---: | ---: | ----: | ---: |\n",
    "| Breadth-first |    9 | 35.7 |   106 |   59 |\n",
    "| Depth-first   |   16 | 61.1 |    16 |   24 |\n",
    "| A\\* (h1)      | 13.7 | 25.7 | 229.9 | 49.2 |\n",
    "| A\\* (h2)      | 13.5 | 25.7 | 179.2 | 56.1 |\n",
    "\n",
    "#### Comparative table of performance of search methods in the map of dimension 9\n",
    "\n",
    "|               |    d |    g |    #E |   #F |\n",
    "| :------------ | ---: | ---: | ----: | ---: |\n",
    "| Breadth-first |   11 | 34.4 |   242 |   91 |\n",
    "| Depth-first   |   20 | 68.7 |    20 |   32 |\n",
    "| A\\* (h1)      | 15.8 | 27.5 | 349.1 | 73.9 |\n",
    "| A\\* (h2)      | 15.8 | 27.5 |   269 | 84.6 |\n"
   ]
  },
  {
   "cell_type": "markdown",
   "metadata": {},
   "source": [
    "---\n",
    "# Functions to plot information for the report\n",
    "---\n"
   ]
  },
  {
   "cell_type": "markdown",
   "metadata": {},
   "source": [
    "## Function to find the actions and path obtained with h2\n",
    "\n",
    "This is only necessary to plot a matrix and the path to write the report. We elaborate a function to find the positions and the orientations of the robot in the path obtained with the heuristic h2. The goal is to plot the path in a matrix to see how work this heuristic and to proof that h2 is admissible.\n"
   ]
  },
  {
   "cell_type": "code",
   "execution_count": 7,
   "metadata": {},
   "outputs": [
    {
     "data": {
      "text/plain": [
       "[(1, 1, 3), (2, 2, 3), (2, 2, 2), (2, 3, 2)]"
      ]
     },
     "execution_count": 7,
     "metadata": {},
     "output_type": "execute_result"
    }
   ],
   "source": [
    "h2_cost, states = get_states_h2((1, 1, 3), (2, 3, 8))\n",
    "states"
   ]
  },
  {
   "cell_type": "markdown",
   "metadata": {},
   "source": [
    "## Plot the robot in the map and the path followed\n",
    "\n",
    "Maybe this is useful to write the explanation of the heuristics in the report. Also it can be used to represent the path followed by the robot with the different search algorithms.\n"
   ]
  },
  {
   "cell_type": "markdown",
   "metadata": {},
   "source": [
    "### Plot the path followed by the heuristic h2\n"
   ]
  },
  {
   "cell_type": "code",
   "execution_count": 8,
   "metadata": {},
   "outputs": [
    {
     "name": "stdout",
     "output_type": "stream",
     "text": [
      "Cost of heuristic 2: 6\n",
      "States: [(0, 0, 0), (0, 0, 2), (0, 1, 2), (0, 1, 3), (1, 2, 3), (2, 3, 3)]\n"
     ]
    },
    {
     "data": {
      "image/png": "[encoded data removed]",
      "text/plain": [
       "<Figure size 640x480 with 1 Axes>"
      ]
     },
     "metadata": {},
     "output_type": "display_data"
    }
   ],
   "source": [
    "import numpy as np\n",
    "\n",
    "_, _, map_data, _, _ = read_input_file(\"../data/exampleMap.txt\")\n",
    "initial_state = (0, 0, 0)\n",
    "goal_state = (2, 3, 8)\n",
    "h2_cost, states = get_states_h2(initial_state, goal_state)\n",
    "print(f\"Cost of heuristic 2: {h2_cost}\")\n",
    "print(f\"States: {states}\")\n",
    "plot_path_in_map(\n",
    "    np.array(map_data),\n",
    "    initial_state=states[0],\n",
    "    states=states,\n",
    ")"
   ]
  },
  {
   "cell_type": "markdown",
   "metadata": {},
   "source": [
    "### Plot the path followed by the robot with the different search algorithms\n",
    "\n",
    "The function `plot_path_in_map` it can be used also to plot the path followed by the robot with the different search algorithms. I tonly needs the initial state and the list of states that the robot has passed through. It will print the initial position and orientation of the robot in **red**, the rotation movements in **green** and the movements in **yellow**.\n"
   ]
  },
  {
   "cell_type": "code",
   "execution_count": 9,
   "metadata": {},
   "outputs": [
    {
     "data": {
      "image/png": "[encoded data removed]",
      "text/plain": [
       "<Figure size 640x480 with 1 Axes>"
      ]
     },
     "metadata": {},
     "output_type": "display_data"
    }
   ],
   "source": [
    "n_rows, n_cols, map_data, _, _ = read_input_file(\"../data/exampleMap.txt\")\n",
    "initial_state = (0, 0, 0)\n",
    "goal_state = (2, 3, 8)\n",
    "mp = MinningProblem(n_rows, n_cols, map_data, initial_state, goal_state)\n",
    "sol = run_search_algorithm(mp, breadth_first_graph_search, verbose=False)\n",
    "# Get the states of the solution\n",
    "states = [node.state for node in sol.path()]  # we need to unpack the state\n",
    "plot_path_in_map(\n",
    "    np.array(map_data),\n",
    "    initial_state=states[0],\n",
    "    states=states,\n",
    ")"
   ]
  }
 ],
 "metadata": {
  "kernelspec": {
   "display_name": "p1_venv",
   "language": "python",
   "name": "python3"
  },
  "language_info": {
   "codemirror_mode": {
    "name": "ipython",
    "version": 3
   },
   "file_extension": ".py",
   "mimetype": "text/x-python",
   "name": "python",
   "nbconvert_exporter": "python",
   "pygments_lexer": "ipython3",
   "version": "3.10.8"
  }
 },
 "nbformat": 4,
 "nbformat_minor": 2
}
